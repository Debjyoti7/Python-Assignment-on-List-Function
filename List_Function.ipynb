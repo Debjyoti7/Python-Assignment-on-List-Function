{
 "cells": [
  {
   "cell_type": "markdown",
   "id": "76c7a845-811b-4a89-885a-a510d0df05a0",
   "metadata": {},
   "source": [
    "# Q1. What is the syntax for adding an element to a list in Python?"
   ]
  },
  {
   "cell_type": "markdown",
   "id": "40b2b562-6e9b-428f-9685-3416e80d1d13",
   "metadata": {},
   "source": [
    "## We can add an elemnet to a list using the 'append()' function."
   ]
  },
  {
   "cell_type": "markdown",
   "id": "5d1a1d6a-29a7-403c-9f59-2202b787fbdd",
   "metadata": {},
   "source": [
    "# Q2. What is the difference between remove() and pop() functions in Python?"
   ]
  },
  {
   "cell_type": "markdown",
   "id": "03d7e963-86db-45e9-b2db-9cacb69ae5fb",
   "metadata": {},
   "source": [
    "## In Python, both the remove() and pop() functions are used to remove elements from a list, but they differ in how they achieve this and what they return. Here's the difference between the two functions:\n",
    "## 1. remove(): This function is used to remove the first occurrence of a specific value from a list. It modifies the list in-place and does not return any value. If the specified value is not found in the list, it raises a ValueError. The syntax for using remove() is as follows:"
   ]
  },
  {
   "cell_type": "code",
   "execution_count": 10,
   "id": "c32eb4b6-d67a-4b26-9a60-b3476636c304",
   "metadata": {},
   "outputs": [],
   "source": [
    "my_list = [1, 2, 3, 2]\n",
    "my_list.remove(2)"
   ]
  },
  {
   "cell_type": "code",
   "execution_count": 11,
   "id": "e27b5009-811a-4fe3-96f0-4fdc13758595",
   "metadata": {},
   "outputs": [
    {
     "data": {
      "text/plain": [
       "[1, 3, 2]"
      ]
     },
     "execution_count": 11,
     "metadata": {},
     "output_type": "execute_result"
    }
   ],
   "source": [
    "my_list"
   ]
  },
  {
   "cell_type": "markdown",
   "id": "e66d646e-20cf-4339-a5e8-56e8fff73681",
   "metadata": {},
   "source": [
    "## 2. pop(): This function is used to remove an element from a list at a specific index. It modifies the list in-place and returns the removed element. If no index is provided, it removes and returns the last element in the list. The syntax for using pop() is as follows:"
   ]
  },
  {
   "cell_type": "code",
   "execution_count": 4,
   "id": "187e62ea-e6b8-46e6-8c38-840fa1d70cae",
   "metadata": {},
   "outputs": [
    {
     "data": {
      "text/plain": [
       "2"
      ]
     },
     "execution_count": 4,
     "metadata": {},
     "output_type": "execute_result"
    }
   ],
   "source": [
    "my_list = [1, 2, 3]\n",
    "removed_element = my_list.pop(1)\n",
    "removed_element"
   ]
  },
  {
   "cell_type": "markdown",
   "id": "af84f144-4821-412b-8fb4-d23ed0c139f7",
   "metadata": {},
   "source": [
    "## The key difference between remove() and pop() is that remove() operates based on the value of the element, while pop() operates based on the index of the element. Additionally, remove() does not return any value, while pop() returns the removed element."
   ]
  },
  {
   "cell_type": "markdown",
   "id": "487a0036-d40d-4932-88e7-7518c5e342a6",
   "metadata": {},
   "source": [
    "# Q3. Write a Python code to sort a list in descending order."
   ]
  },
  {
   "cell_type": "markdown",
   "id": "37aa82d2-9eec-4084-825e-b709d4e97fd7",
   "metadata": {},
   "source": [
    "## To sort a list in descending order in Python, we can use the sort() method or the sorted() function with the reverse=True argument. Here's an example of both approaches:"
   ]
  },
  {
   "cell_type": "code",
   "execution_count": 12,
   "id": "8d6efdcf-ea3f-4170-ab63-ef83a8ea2d30",
   "metadata": {},
   "outputs": [
    {
     "name": "stdout",
     "output_type": "stream",
     "text": [
      "[9, 8, 5, 2, 1]\n"
     ]
    }
   ],
   "source": [
    "my_list = [5, 2, 8, 1, 9]\n",
    "my_list.sort(reverse=True)\n",
    "print(my_list)\n"
   ]
  },
  {
   "cell_type": "code",
   "execution_count": 13,
   "id": "d75a674f-f299-4094-a438-561307af3889",
   "metadata": {},
   "outputs": [
    {
     "name": "stdout",
     "output_type": "stream",
     "text": [
      "[9, 8, 5, 2, 1]\n"
     ]
    }
   ],
   "source": [
    "my_list = [5, 2, 8, 1, 9]\n",
    "sorted_list = sorted(my_list, reverse=True)\n",
    "print(sorted_list)\n"
   ]
  },
  {
   "cell_type": "markdown",
   "id": "61bd01fa-8d59-4a6e-b551-f3d91dd8ad5b",
   "metadata": {},
   "source": [
    "# Q4. Write a Python code to count the number of occurrences of an element in a list."
   ]
  },
  {
   "cell_type": "markdown",
   "id": "84d4c32d-8aca-47d2-986f-0cd4cc0d7b7b",
   "metadata": {},
   "source": [
    "## To count the number of occurrences of an element in a list, we can use the count() method. Here's an example Python code:"
   ]
  },
  {
   "cell_type": "code",
   "execution_count": 14,
   "id": "8a4750e8-ff5c-4d1c-b967-b56b9ed3cd27",
   "metadata": {},
   "outputs": [
    {
     "name": "stdout",
     "output_type": "stream",
     "text": [
      "The element 2 appears 3 time(s) in the list.\n"
     ]
    }
   ],
   "source": [
    "my_list = [1, 2, 3, 2, 4, 2, 5]\n",
    "element = 2\n",
    "\n",
    "count = my_list.count(element)\n",
    "\n",
    "print(f\"The element {element} appears {count} time(s) in the list.\")\n"
   ]
  },
  {
   "cell_type": "markdown",
   "id": "c7372120-28bd-480b-85ed-caf339cc5495",
   "metadata": {},
   "source": [
    "# Q5. Write a Python code to reverse a list."
   ]
  },
  {
   "cell_type": "markdown",
   "id": "9013749c-c788-47f2-9dab-78edc448e895",
   "metadata": {},
   "source": [
    "## To reverse a list in Python, we can use the slicing technique. Here's an example of Python code to reverse a list:"
   ]
  },
  {
   "cell_type": "code",
   "execution_count": 15,
   "id": "b6535b8a-ee33-477b-a740-fa7a8ae449b1",
   "metadata": {},
   "outputs": [
    {
     "name": "stdout",
     "output_type": "stream",
     "text": [
      "[5, 4, 3, 2, 1]\n"
     ]
    }
   ],
   "source": [
    "my_list = [1, 2, 3, 4, 5]\n",
    "reversed_list = my_list[::-1]\n",
    "\n",
    "print(reversed_list)\n"
   ]
  },
  {
   "cell_type": "markdown",
   "id": "77484194-a6ff-4708-a967-720b7ca27491",
   "metadata": {},
   "source": [
    "## In this code, my_list is the list that we want to reverse. The slicing technique [::-1] is used to create a reversed copy of the list. It starts from the last element and goes backward with a step size of -1, effectively reversing the order of elements in the list. The reversed list is stored in the variable reversed_list, and then it is printed.\n",
    "## Please note that the original list my_list remains unchanged. If we want to modify the original list in-place, we can use the reverse() method of the list:"
   ]
  },
  {
   "cell_type": "code",
   "execution_count": 16,
   "id": "c81e6bbf-23d4-4d3f-804f-11a5fdf94960",
   "metadata": {},
   "outputs": [
    {
     "name": "stdout",
     "output_type": "stream",
     "text": [
      "[5, 4, 3, 2, 1]\n"
     ]
    }
   ],
   "source": [
    "my_list = [1, 2, 3, 4, 5]\n",
    "my_list.reverse()\n",
    "\n",
    "print(my_list)\n"
   ]
  },
  {
   "cell_type": "code",
   "execution_count": null,
   "id": "e1e8caa6-4fbe-42f1-ba84-f5fd8f335f03",
   "metadata": {},
   "outputs": [],
   "source": []
  }
 ],
 "metadata": {
  "kernelspec": {
   "display_name": "Python 3 (ipykernel)",
   "language": "python",
   "name": "python3"
  },
  "language_info": {
   "codemirror_mode": {
    "name": "ipython",
    "version": 3
   },
   "file_extension": ".py",
   "mimetype": "text/x-python",
   "name": "python",
   "nbconvert_exporter": "python",
   "pygments_lexer": "ipython3",
   "version": "3.10.8"
  }
 },
 "nbformat": 4,
 "nbformat_minor": 5
}
